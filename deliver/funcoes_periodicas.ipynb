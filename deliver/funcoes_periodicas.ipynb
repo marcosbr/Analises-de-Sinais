{
 "cells": [
  {
   "cell_type": "code",
   "execution_count": null,
   "metadata": {
    "collapsed": true
   },
   "outputs": [],
   "source": [
    "import numpy as np\n",
    "import matplotlib.pylab as plt"
   ]
  },
  {
   "cell_type": "code",
   "execution_count": null,
   "metadata": {},
   "outputs": [],
   "source": [
    "x = np.linspace(-np.pi*10,np.pi*10,1001)\n",
    "a1 = np.sqrt(2)\n",
    "a2 = 2\n",
    "y1 = np.sin(a1*x)\n",
    "y2 = np.sin(a2*x)\n",
    "y = y1 + y2"
   ]
  },
  {
   "cell_type": "code",
   "execution_count": null,
   "metadata": {},
   "outputs": [],
   "source": [
    "plt.subplot(211)\n",
    "plt.plot(x, y1, label=\"y1(x)\")\n",
    "plt.plot(x, y2, label=\"y2(x)\")\n",
    "plt.legend()\n",
    "plt.subplot(212)\n",
    "plt.plot(x, y, label=\"y1(x) + y2(x)\")\n",
    "plt.legend()"
   ]
  }
 ],
 "metadata": {
  "kernelspec": {
   "display_name": "Python 2",
   "language": "python",
   "name": "python2"
  },
  "language_info": {
   "codemirror_mode": {
    "name": "ipython",
    "version": 2.0
   },
   "file_extension": ".py",
   "mimetype": "text/x-python",
   "name": "python",
   "nbconvert_exporter": "python",
   "pygments_lexer": "ipython2",
   "version": "2.7.6"
  }
 },
 "nbformat": 4,
 "nbformat_minor": 0
}