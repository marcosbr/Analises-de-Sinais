{
 "cells": [
  {
   "cell_type": "code",
   "execution_count": null,
   "metadata": {
    "collapsed": true
   },
   "outputs": [],
   "source": [
    "import matplotlib.pyplot as plt\n",
    "import numpy as np"
   ]
  },
  {
   "cell_type": "code",
   "execution_count": null,
   "metadata": {},
   "outputs": [],
   "source": [
    "t = np.arange(0, 2./60, 1./4000) #Eixo tempo\n",
    "\n",
    "xa1 = np.cos(2*np.pi*60*t+np.pi/3)\n",
    "xa2 = np.cos(2*np.pi*340*t+np.pi/3)\n",
    "xa3 = np.cos(2*np.pi*460*t+np.pi/3)\n",
    "xa4 = xa1 + xa2"
   ]
  },
  {
   "cell_type": "code",
   "execution_count": null,
   "metadata": {},
   "outputs": [],
   "source": [
    "tn = np.arange(0, 2./60, 1./400) #Eixo tempo discreto\n",
    "\n",
    "xn1 = np.cos(2*np.pi*60*tn+np.pi/3)\n",
    "xn2 = np.cos(2*np.pi*340*tn+np.pi/3)\n",
    "xn3 = np.cos(2*np.pi*460*tn+np.pi/3)\n",
    "xn4 = xn1 + xn2"
   ]
  },
  {
   "cell_type": "code",
   "execution_count": null,
   "metadata": {},
   "outputs": [],
   "source": [
    "fig = plt.figure()\n",
    "ax1 = fig.add_subplot(311)\n",
    "ax1.plot(t, xa1)\n",
    "ax1.stem(tn, xn1)\n",
    "ax2 = fig.add_subplot(312)\n",
    "ax2.plot(t, xa2)\n",
    "ax2.stem(tn, xn2)\n",
    "ax3 = fig.add_subplot(313)\n",
    "ax3.plot(t, xa4)\n",
    "ax3.stem(tn, xn4)\n",
    "plt.show()"
   ]
  }
 ],
 "metadata": {
  "kernelspec": {
   "display_name": "Python 2",
   "language": "python",
   "name": "python2"
  },
  "language_info": {
   "codemirror_mode": {
    "name": "ipython",
    "version": 2.0
   },
   "file_extension": ".py",
   "mimetype": "text/x-python",
   "name": "python",
   "nbconvert_exporter": "python",
   "pygments_lexer": "ipython2",
   "version": "2.7.6"
  }
 },
 "nbformat": 4,
 "nbformat_minor": 0
}