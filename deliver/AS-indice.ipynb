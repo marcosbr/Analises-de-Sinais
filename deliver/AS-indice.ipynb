{
 "cells": [
  {
   "cell_type": "markdown",
   "metadata": {
    "collapsed": true
   },
   "source": [
    "# IG  - Análise de Sinais\n",
    "\n",
    "Professores: *George Sand, Susanne Maciel*<br>\n",
    "Local: Universidade de Brasilia/Observatorio Sismologico\n",
    "\n",
    "![capa](../figures/Analise_de_Sinais_capa.PNG)\n",
    "\n",
    "## Conteúdo\n",
    "\n",
    "### [Glossário](Glossario.ipynb)\n",
    "\n",
    "1. Ementa e formato do curso \n",
    "    - Jupyter, Git, Python, NumPy, Matplotlib\n",
    "    * NB:[Git e Github](Git-basico-Git-Classroom.ipynb)\n",
    "2. Revisão de números complexos\n",
    "3. Introdução à álgebra linear\n",
    "    * NB:[Soma parcial da Série de Fourier](soma_parcial_sFourier.ipynb)\n",
    "4. Projeções ortogonais\n",
    "    * NB:[Funções Periódicas](funcoes_periodicas.ipynb)\n",
    "    * NB:[Soma Senos e Cossenos](soma_sen_cos.ipynb)\n",
    "5. Análise espectral\n",
    "6. Propriedades da Transformada de Fourier\n",
    "7. Revisão de Python\n",
    "8. Convolução\n",
    "9. Teorema da Amostragem\n",
    "    * NB:[Interpolação sinc (Interpolação de Whittaker-Shannon)](interp_sinc.ipynb)\n",
    "    * NB:[Aliasing](Aliasing.ipynb)\n"
   ]
  }
 ],
 "metadata": {
  "kernelspec": {
   "display_name": "Python 2",
   "language": "python",
   "name": "python2"
  },
  "language_info": {
   "codemirror_mode": {
    "name": "ipython",
    "version": 2.0
   },
   "file_extension": ".py",
   "mimetype": "text/x-python",
   "name": "python",
   "nbconvert_exporter": "python",
   "pygments_lexer": "ipython2",
   "version": "2.7.6"
  }
 },
 "nbformat": 4,
 "nbformat_minor": 0
}