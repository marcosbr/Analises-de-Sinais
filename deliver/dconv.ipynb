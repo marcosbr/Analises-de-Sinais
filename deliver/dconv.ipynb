{
 "cells": [
  {
   "cell_type": "markdown",
   "metadata": {
    "collapsed": true
   },
   "source": [
    "# Definição — Convolução Discreta:\n",
    "\n",
    "$$x[n]*h[n] = \\sum_{k=-\\infty}^{\\infty}x[k]h[n-k]$$\n",
    "\n",
    "## Abaixo segue o exemplo da função caixa ($f$) e do resultado de sua convolução $f*f$:\n",
    "\n",
    "$$\n",
    "f(t)=\n",
    "\\begin{cases}\n",
    "1, |t| < 2 \\\\\n",
    "0, |t| > 2\\\\\n",
    "1/2, t =2\n",
    "\\end{cases}$$"
   ]
  },
  {
   "cell_type": "code",
   "execution_count": 3,
   "metadata": {},
   "outputs": [],
   "source": [
    "import matplotlib.pyplot as plt\n",
    "import numpy as np\n",
    "\n",
    "f = [0, 0.5, 1, 1, 1, 0.5, 0]\n",
    "t = [-3, -2, -1, 0, 1, 2, 3]\n",
    "tc = np.arange(-len(f)+1, len(f))\n",
    "y = np.convolve(f, f)\n",
    "print(f)"
   ]
  },
  {
   "cell_type": "code",
   "execution_count": 4,
   "metadata": {},
   "outputs": [
    {
     "data": {
      "image/png": "[encoded data removed]",
      "text/plain": [
       "<matplotlib.figure.Figure at 0x7fa0a6f88050>"
      ]
     },
     "metadata": {},
     "output_type": "display_data"
    }
   ],
   "source": [
    "fig1 = plt.figure()\n",
    "ax1 = fig1.add_subplot(211)\n",
    "ax1.stem(t, f)\n",
    "ax2 = fig1.add_subplot(212)\n",
    "ax2.stem(tc, y)\n",
    "plt.show()"
   ]
  },
  {
   "cell_type": "code",
   "execution_count": null,
   "metadata": {},
   "outputs": [],
   "source": [
    ""
   ]
  }
 ],
 "metadata": {
  "kernelspec": {
   "display_name": "Python 2",
   "language": "python",
   "name": "python2"
  },
  "language_info": {
   "codemirror_mode": {
    "name": "ipython",
    "version": 2.0
   },
   "file_extension": ".py",
   "mimetype": "text/x-python",
   "name": "python",
   "nbconvert_exporter": "python",
   "pygments_lexer": "ipython2",
   "version": "2.7.6"
  }
 },
 "nbformat": 4,
 "nbformat_minor": 0
}