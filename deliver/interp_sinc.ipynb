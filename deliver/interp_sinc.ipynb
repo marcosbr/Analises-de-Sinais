{
 "cells": [
  {
   "cell_type": "code",
   "execution_count": null,
   "metadata": {
    "collapsed": true
   },
   "outputs": [],
   "source": [
    "import matplotlib.pyplot as plt\n",
    "import numpy as np"
   ]
  },
  {
   "cell_type": "code",
   "execution_count": null,
   "metadata": {},
   "outputs": [],
   "source": [
    "f = 1.0 # Hz, sinal de frequencia\n",
    "fs = 5.0 # Hz, taxa de amostragem (ie. ≥ 2*f)\n",
    "t = np.linspace(-1, 1, 100)\n",
    "ts = np.arange(-1, 1+1/fs, 1/fs) # pontos da amostras"
   ]
  },
  {
   "cell_type": "code",
   "execution_count": null,
   "metadata": {},
   "outputs": [],
   "source": [
    "num_coeffs=len(ts)\n",
    "sm=0\n",
    "for k in range(-num_coeffs,num_coeffs):\n",
    "    sm += np.sin(2*np.pi*f*(k/fs))*np.sinc(k - fs * t)\n",
    "\n",
    "k = np.array(sorted(set((t*fs).astype(int)))) # ordenando a lista de coeficientes"
   ]
  },
  {
   "cell_type": "code",
   "execution_count": null,
   "metadata": {},
   "outputs": [],
   "source": [
    "fig = plt.figure()\n",
    "ax = fig.add_subplot(111)\n",
    "ax.plot(t, (np.sin(2*np.pi*f*(k[:, None]/fs))*np.sinc(k[:, None]-fs*t)).T\\\n",
    "        , '--', t, (np.sin(2*np.pi*f*(k[:, None]/fs))*np.sinc(k[:,None]-fs*t)).sum(axis=0),\\\n",
    "        'k-', k/fs, np.sin(2*np.pi*f*k/fs), 'ob') # amostras\n",
    "ax.set_xlabel('time', fontsize=14)\n",
    "ax.axis((-1.1, 1.1, -1.1, 1.1))\n",
    "plt.show()"
   ]
  }
 ],
 "metadata": {
  "kernelspec": {
   "display_name": "Python 2",
   "language": "python",
   "name": "python2"
  },
  "language_info": {
   "codemirror_mode": {
    "name": "ipython",
    "version": 2.0
   },
   "file_extension": ".py",
   "mimetype": "text/x-python",
   "name": "python",
   "nbconvert_exporter": "python",
   "pygments_lexer": "ipython2",
   "version": "2.7.6"
  }
 },
 "nbformat": 4,
 "nbformat_minor": 0
}