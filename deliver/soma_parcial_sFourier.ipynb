{
 "cells": [
  {
   "cell_type": "code",
   "execution_count": null,
   "metadata": {
    "collapsed": true
   },
   "outputs": [],
   "source": [
    "import numpy as np\n",
    "import matplotlib.pyplot as plt"
   ]
  },
  {
   "cell_type": "code",
   "execution_count": null,
   "metadata": {},
   "outputs": [],
   "source": [
    "x = np.linspace(-1, 1, 101)\n",
    "f = np.ones_like(x)\n",
    "f[x < 0] = 0"
   ]
  },
  {
   "cell_type": "code",
   "execution_count": null,
   "metadata": {},
   "outputs": [],
   "source": [
    "y1 = 0.5 + (2/np.pi)*(np.sin(np.pi*x) + np.sin(np.pi*3.0*x)/3.0)\n",
    "y2 = y1+(2/np.pi)*(np.sin(np.pi*5.0*x)/5.0 + np.sin(np.pi*7.0*x)/7.0)\n",
    "y3 = y2+(2/np.pi)*(np.sin(np.pi*9.0*x)/9.0 + np.sin(np.pi*11.0*x)/11.0)"
   ]
  },
  {
   "cell_type": "code",
   "execution_count": null,
   "metadata": {},
   "outputs": [],
   "source": [
    "plt.plot(x, f, 'b-', lw=3, label='f(x)')\n",
    "plt.plot(x, y1, 'c--', lw=2, label='dois termos')\n",
    "plt.plot(x, y2,'r-', lw=2, label='quatro termos')\n",
    "plt.plot(x, y3, 'b:', lw=2, label='seis termos')\n",
    "plt.legend(loc='best')\n",
    "plt.xlabel('x', style='italic')\n",
    "plt.ylabel('f_N(x)', style='italic')\n",
    "plt.suptitle('Somas parciais para Serie de Fourier de f(x)', size=16, weight='bold')\n",
    "plt.show()"
   ]
  }
 ],
 "metadata": {
  "kernelspec": {
   "display_name": "Python 2",
   "language": "python",
   "name": "python2"
  },
  "language_info": {
   "codemirror_mode": {
    "name": "ipython",
    "version": 2.0
   },
   "file_extension": ".py",
   "mimetype": "text/x-python",
   "name": "python",
   "nbconvert_exporter": "python",
   "pygments_lexer": "ipython2",
   "version": "2.7.6"
  }
 },
 "nbformat": 4,
 "nbformat_minor": 0
}