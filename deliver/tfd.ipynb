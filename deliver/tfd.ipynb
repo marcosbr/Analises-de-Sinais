{
 "cells": [
  {
   "cell_type": "markdown",
   "metadata": {
    "collapsed": true
   },
   "source": [
    "# Definição — Transformada de Fourier Discreta:\n",
    "\n",
    "$$\\tilde{f}(\\omega_k) \\approx \\Delta t \\sum_{j=0}^{N-1}f_iW_N^{-jk}$$\n",
    "\n",
    "Abaixo segue o exemplo da função cosseno ( $f(t) = \\cos(t)$ ) e sua transformada de Fourier Discrta (DFT) ( $\\hat{f}(\\omega)$ ). Note que a transformada de Fourier continua e dada por $\\hat{f}(\\omega) = \\pi[\\delta(\\omega +1) + \\delta(\\omega - 1)]$;"
   ]
  },
  {
   "cell_type": "code",
   "execution_count": 1,
   "metadata": {},
   "outputs": [],
   "source": [
    "import matplotlib.pyplot as plt\n",
    "import numpy as np\n",
    "\n",
    "dt = np.pi/2 #Intervalo de amostragem\n",
    "N = 4 #Numero de amostras\n",
    "t = np.arange(0,(N+1)*dt,dt) #Eixo do tempo\n",
    "f = np.cos(t) #Sinal"
   ]
  },
  {
   "cell_type": "code",
   "execution_count": 2,
   "metadata": {},
   "outputs": [
    {
     "name": "stderr",
     "output_type": "stream",
     "text": [
      "/usr/local/lib/python2.7/dist-packages/ipykernel_launcher.py:6: ComplexWarning: Casting complex values to real discards the imaginary part\n  \n"
     ]
    }
   ],
   "source": [
    "F = np.zeros(N)\n",
    "\n",
    "#Transformada de Fourier Discreta\n",
    "for k in range(1, N):\n",
    "    for l in range(0, N):\n",
    "        F[k] += f[l]*1j**(-l*k)\n",
    "\n",
    "F = dt*F\n",
    "dw = 2*np.pi/(N*dt) #Intervalo de frequencias\n",
    "w = np.arange(0, N*dw, dw) #Eixo de frequencia"
   ]
  },
  {
   "cell_type": "code",
   "execution_count": 4,
   "metadata": {},
   "outputs": [
    {
     "data": {
      "image/png": "[encoded data removed]",
      "text/plain": [
       "<matplotlib.figure.Figure at 0x7fb50815d350>"
      ]
     },
     "metadata": {},
     "output_type": "display_data"
    },
    {
     "data": {
      "image/png": "[encoded data removed]",
      "text/plain": [
       "<matplotlib.figure.Figure at 0x7fb4deea6c50>"
      ]
     },
     "metadata": {},
     "output_type": "display_data"
    }
   ],
   "source": [
    "fig = plt.figure()\n",
    "ax1 = fig.add_subplot(211)\n",
    "ax1.stem(t, f)\n",
    "ax1.set_title('Sinal Discreto')\n",
    "ax2 = fig.add_subplot(212)\n",
    "ax2.stem(w, F)\n",
    "ax2.set_title('Transformada de Fourier Discreta')\n",
    "\n",
    "#Para deixar o plot mais bonito...\n",
    "ax1.set_xlim([t[0]-dt/4, t[N-1]+dt/4])\n",
    "ax1.set_ylim([min(f)-(max(f)-min(f))/4, max(f)+(max(f)-min(f))/4])\n",
    "ax2.set_xlim([w[0]-dw/4, w[N-1]+dw/4])\n",
    "ax2.set_ylim([min(F)-(max(F)-min(F))/4, max(F)+(max(F)-min(F))/4])\n",
    "plt.show()"
   ]
  },
  {
   "cell_type": "markdown",
   "metadata": {},
   "source": [
    "## Aplicando o Shift:"
   ]
  },
  {
   "cell_type": "code",
   "execution_count": null,
   "metadata": {},
   "outputs": [],
   "source": [
    ""
   ]
  }
 ],
 "metadata": {
  "kernelspec": {
   "display_name": "Python 2",
   "language": "python",
   "name": "python2"
  },
  "language_info": {
   "codemirror_mode": {
    "name": "ipython",
    "version": 2.0
   },
   "file_extension": ".py",
   "mimetype": "text/x-python",
   "name": "python",
   "nbconvert_exporter": "python",
   "pygments_lexer": "ipython2",
   "version": "2.7.6"
  }
 },
 "nbformat": 4,
 "nbformat_minor": 0
}